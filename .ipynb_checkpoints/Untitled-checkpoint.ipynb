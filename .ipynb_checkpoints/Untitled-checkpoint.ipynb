{
 "cells": [
  {
   "cell_type": "code",
   "execution_count": 15,
   "metadata": {},
   "outputs": [],
   "source": [
    "def is_holiday(festivos, day_number, month_index):\n",
    "    for day, month in festivos:\n",
    "        if (day == day_number and month==month_index+1):#month_index has to be increased because january is 1 not 0\n",
    "            return True\n",
    "    return False\n",
    "            \n",
    "def is_half_day(day_week_index, i, half_days, sessions, day_number, month_index):\n",
    "    if (day_week_index == 4 or i+1 == len(sessions)): # Friday or last session\n",
    "        return True\n",
    "    for day, month in half_days:\n",
    "        if (day == day_number and month==month_index+1):#month_index has to be increased because january is 1 not 0\n",
    "            return True\n",
    "    return False\n",
    "    \n",
    "\n",
    "def update_date(day_number, month_index):\n",
    "    #To do:Implement check months\n",
    "    month = months[month_index]\n",
    "    if month in ['Enero','Marzo','Mayo','Julio','Agosto', 'Octubre','Decembre']:\n",
    "        \n",
    "        day_number = day_number%31+1\n",
    "    elif month in ['Abril','Junio','Septiembre','Noviembre']:\n",
    "        day_number = day_number%30+1\n",
    "    else:\n",
    "        if(not bisiesto):\n",
    "            day_number = day_number%28+1\n",
    "        else:\n",
    "            day_number = day_number%29+1\n",
    "    change_month = False\n",
    "    if(day_number == 1):\n",
    "        change_month = True\n",
    "        month_index = (month_index+1)%12\n",
    "    \n",
    "    return day_number, month_index, change_month\n",
    "\n",
    "def print_month_row(row_id, month_index):\n",
    "        cell_month = 'A' + str(row_id)\n",
    "        sheet[cell_month] = months[month_index]\n",
    "        row_id = row_id + 1\n",
    "        return row_id\n",
    "    \n",
    "    \n",
    "def its_work_day(day_number, day_week_index, month_index, festivos):\n",
    "    if day_week_index in [5,6]: # It's weekend\n",
    "        return False\n",
    "    return not is_holiday(festivos, day_number, month_index)\n",
    "\n"
   ]
  },
  {
   "cell_type": "code",
   "execution_count": 17,
   "metadata": {},
   "outputs": [],
   "source": [
    "from openpyxl import Workbook\n",
    "from openpyxl.styles import Alignment\n",
    "\n",
    "\n",
    "\n",
    "workbook = Workbook()\n",
    "sheet = workbook.active\n",
    "\n",
    "column_letters = ['A','B','C','D','E','F','G']  \n",
    "months = ['Enero', 'Febrero', 'Marzo', 'Abril', 'Mayo', 'Junio','Julio',\\\n",
    "         'Agosto', 'Septiembre', 'Octubre', 'Noviembre', 'Diciembre']\n",
    "len(column_letters)\n",
    "\n",
    "sessions=['S' + str(i) for i in range(1,191)]\n",
    "day_week_index  = 0 # Starting day of the week 0 codifies monday, thuesday would be 1 and so on\n",
    "day_number = 3  # Starting day number\n",
    "month_index = 1 # first moth in this case 1, febrary\n",
    "bisiesto   = True\n",
    "\n",
    "festivos = [(8,4), (9,4), (10,4), (13,4), (1,5), (1,6) ,(24,6)] #+ [(i , 3)  for i in range(13,28)]\n",
    "#[(i , 3)  for i in range(13,28)] 15 days coronavirus\n",
    "half_days = [(5,3)]\n",
    "\n",
    "row_id = 1\n",
    "row_id = print_month_row(row_id, month_index)\n",
    "i = 0\n",
    "while (i < len(sessions)):\n",
    "    \n",
    "    cell = column_letters[day_week_index] + str(row_id)\n",
    "    \n",
    "    is_working = its_work_day(day_number, day_week_index, month_index, festivos) \n",
    "    if is_working:\n",
    "        if is_half_day(day_week_index, i, half_days, sessions, day_number, month_index):\n",
    "            sheet[cell] = str(day_number) + '\\n' + sessions[i] + '\\n'\n",
    "            i = i + 1\n",
    "        else:\n",
    "            sheet[cell] = str(day_number) + '\\n' + sessions[i] + '\\n' + sessions[i+1] #To do: check i+1 exixsts\n",
    "            i = i + 2\n",
    "        \n",
    "    else:\n",
    "        sheet[cell] =  str(day_number) + '\\n' + '\\n'\n",
    "        \n",
    "    sheet[cell].alignment = Alignment(wrapText=True)\n",
    "    \n",
    "    \n",
    "    day_number, month_index, next_month = update_date(day_number, month_index)\n",
    "    if (next_month):\n",
    "        row_id = row_id + 1\n",
    "        row_id = print_month_row(row_id, month_index)\n",
    "    \n",
    "    day_week_index = (day_week_index+1)%len(column_letters)\n",
    "    if (day_week_index == 0 ):\n",
    "        row_id = row_id + 1\n",
    "        \n",
    "\n",
    "workbook.save(filename=\"hello_world.xlsx\")"
   ]
  },
  {
   "cell_type": "code",
   "execution_count": 3,
   "metadata": {},
   "outputs": [
    {
     "ename": "TypeError",
     "evalue": "'int' object is not iterable",
     "output_type": "error",
     "traceback": [
      "\u001b[1;31m---------------------------------------------------------------------------\u001b[0m",
      "\u001b[1;31mTypeError\u001b[0m                                 Traceback (most recent call last)",
      "\u001b[1;32m<ipython-input-3-301dda22b9d0>\u001b[0m in \u001b[0;36m<module>\u001b[1;34m\u001b[0m\n\u001b[1;32m----> 1\u001b[1;33m \u001b[0menumerate\u001b[0m\u001b[1;33m(\u001b[0m\u001b[1;36m10\u001b[0m\u001b[1;33m)\u001b[0m\u001b[1;33m\u001b[0m\u001b[1;33m\u001b[0m\u001b[0m\n\u001b[0m",
      "\u001b[1;31mTypeError\u001b[0m: 'int' object is not iterable"
     ]
    }
   ],
   "source": [
    "enumerate(10)"
   ]
  },
  {
   "cell_type": "code",
   "execution_count": null,
   "metadata": {},
   "outputs": [],
   "source": [
    "28%29+1"
   ]
  },
  {
   "cell_type": "code",
   "execution_count": null,
   "metadata": {},
   "outputs": [],
   "source": []
  },
  {
   "cell_type": "code",
   "execution_count": null,
   "metadata": {},
   "outputs": [],
   "source": [
    "[(i , 3)  for i in range(13,28)]"
   ]
  },
  {
   "cell_type": "code",
   "execution_count": null,
   "metadata": {},
   "outputs": [],
   "source": []
  }
 ],
 "metadata": {
  "kernelspec": {
   "display_name": "Python 3",
   "language": "python",
   "name": "python3"
  },
  "language_info": {
   "codemirror_mode": {
    "name": "ipython",
    "version": 3
   },
   "file_extension": ".py",
   "mimetype": "text/x-python",
   "name": "python",
   "nbconvert_exporter": "python",
   "pygments_lexer": "ipython3",
   "version": "3.7.4"
  }
 },
 "nbformat": 4,
 "nbformat_minor": 2
}
